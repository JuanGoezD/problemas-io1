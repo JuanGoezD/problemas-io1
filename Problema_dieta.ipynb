{
  "cells": [
    {
      "cell_type": "markdown",
      "metadata": {},
      "source": [
        "<a target=\"_blank\" href=\"https://colab.research.google.com/github/JuanGoezD/problemas-io1/blob/main/Problema_dieta.ipynb\">\n",
        "  <img src=\"https://colab.research.google.com/assets/colab-badge.svg\" alt=\"Open In Colab\"/>\n",
        "</a>"
      ]
    },
    {
      "cell_type": "markdown",
      "metadata": {
        "id": "DQ84BbdUL5sX"
      },
      "source": [
        "# Problema básico de la dieta\n",
        "\n",
        "El servicio alimentario de la Universidad Nacional tiene la responsabilidad de preparar y distribuir comidas para los estudiantes, profesores y personal administrativo de la institución. Para garantizar una dieta balanceada y saludable, se busca realizar un pedido de alimentos que cumpla con ciertos requerimientos nutricionales diarios mínimos a un costo mínimo.\n",
        "\n"
      ]
    },
    {
      "cell_type": "markdown",
      "metadata": {
        "id": "p50xfKSrMOvO"
      },
      "source": [
        "## Datos\n",
        "\n",
        "\n"
      ]
    },
    {
      "cell_type": "markdown",
      "metadata": {
        "id": "5k9quu_3OFKn"
      },
      "source": [
        "Se dispone de información sobre un conjunto de alimentos disponibles para el servicio alimentario, así como sus costos por unidad y los valores nutricionales que aportan por cada unidad. Los valores nutricionales incluyen la cantidad de calorías, proteínas, grasas, fibra y calcio presentes en cada unidad del alimento.\n",
        "\n",
        "Los requerimientos nutricionales diarios mínimos para el servicio alimentario están definidos en términos de calorías, proteínas, grasas, fibra y calcio necesarios para mantener una dieta balanceada y saludable. Estos requerimientos representan las cantidades mínimas y máximas de cada nutriente que se deben cumplir diariamente."
      ]
    },
    {
      "cell_type": "markdown",
      "metadata": {
        "id": "-sJbF289OI4d"
      },
      "source": [
        "| Alimento  | Costo por Unidad | Calorías | Proteínas | Grasas | Fibra | Calcio |\n",
        "|-----------|------------------|----------|-------------|--------|-------|--------|\n",
        "| Pan       | 0.5              | 70       | 3           | 1      | 1     | 20     |\n",
        "| Leche     | 0.8              | 121      | 8           | 5      | 4     | 276    |\n",
        "| Carne     | 2.0              | 240      | 20          | 15     | 0     | 15     |\n",
        "| Huevos    | 0.4              | 90       | 13          | 8      | 1     | 27     |\n",
        "| Manzanas  | 0.3              | 52       | 1           | 0      | 4     | 2      |\n",
        "\n",
        "Requerimientos Nutricionales Diarios Mínimos:\n",
        "- Calorías: 2000\n",
        "- Proteínas: 55\n",
        "- Grasas: 30\n",
        "- Fibra: 10\n",
        "- Calcio: 200\n",
        "\n",
        "Topes Máximos de Nutrientes Coherentes:\n",
        "- Calorías: 3000\n",
        "- Proteínas: 200\n",
        "- Grasas: 100\n",
        "- Fibra: 50\n",
        "- Calcio: 1000\n"
      ]
    },
    {
      "cell_type": "markdown",
      "metadata": {
        "id": "4Z-r12LZNLH2"
      },
      "source": [
        "## Análisis del problema\n",
        "\n",
        "\n",
        "\n",
        "\n",
        "\n"
      ]
    },
    {
      "cell_type": "markdown",
      "metadata": {
        "id": "pNeC-aScOYq3"
      },
      "source": [
        "### Objetivo\n"
      ]
    },
    {
      "cell_type": "markdown",
      "metadata": {
        "id": "J9SMwvC8Oape"
      },
      "source": [
        "El objetivo del problema es determinar la combinación más económica de alimentos que satisfaga los requerimientos nutricionales diarios mínimos, minimizando el costo total del pedido de alimentos\n",
        "\n"
      ]
    },
    {
      "cell_type": "markdown",
      "metadata": {
        "id": "o0e369pKOqA2"
      },
      "source": [
        "### Variables de decisión\n",
        "\n"
      ]
    },
    {
      "cell_type": "markdown",
      "metadata": {
        "id": "3Io9y79VOt3W"
      },
      "source": [
        "Para resolver este problema, se deben determinar las cantidades de cada alimento que se deben pedir al proveedor. Sean x1, x2, ..., xn las variables de decisión que representan las cantidades de cada alimento 1, 2, ..., n a ser pedidas, respectivamente.\n",
        "\n"
      ]
    },
    {
      "cell_type": "markdown",
      "metadata": {
        "id": "mRJd-cJTOcfe"
      },
      "source": [
        "## Modelo matemático\n",
        "\n"
      ]
    },
    {
      "cell_type": "markdown",
      "metadata": {
        "id": "9n_i1le-O4To"
      },
      "source": [
        "El problema de la dieta se puede modelar como un problema de programación lineal entera, con las siguientes variables y restricciones:"
      ]
    },
    {
      "cell_type": "markdown",
      "metadata": {
        "id": "pmEc5FN8O6A2"
      },
      "source": [
        "### Variables de Decisión:\n",
        "$x_1, x_2, ..., x_n$: Cantidades de cada alimento a pedir (enteros positivos)."
      ]
    },
    {
      "cell_type": "markdown",
      "metadata": {
        "id": "Ie-CN4haPKQ-"
      },
      "source": [
        "### Funcion Objetivo\n",
        "Minimizar el costo total del pedido de alimentos:\n",
        "\n",
        "Minimizar: $0.5  x_1 + 0.8  x_2 + 2.0  x_3 + 0.4  x_4 + 0.3  x_5$"
      ]
    },
    {
      "cell_type": "markdown",
      "metadata": {
        "id": "xToHr1ELPcc4"
      },
      "source": [
        "### Restricciones\n",
        "**Calorías**: La suma ponderada de las calorías aportadas por cada alimento multiplicadas por sus respectivas cantidades debe ser mayor o igual a las calorías mínimas requeridas **Y** menor al tope de calorias.\n",
        "\n",
        "$  2000 \\leq 70  x_1 + 121  x_2 + 240  x_3 + 90  x_4 + 52  x_5 \\leq 3000$\n",
        "\n",
        "**Proteínas**: La suma ponderada de las proteínas aportadas por cada alimento multiplicadas por sus respectivas cantidades debe ser mayor o igual a las proteínas mínimas requeridas **Y** menor al tope de proteinas.\n",
        "\n",
        "$  55 \\leq 3  x_1 + 8  x_2 + 20  x_3 + 13  x_4 + 1  x_5  \\leq 200$\n",
        "\n",
        "**Grasas**: La suma ponderada de las grasas aportadas por cada alimento multiplicadas por sus respectivas cantidades debe ser mayor o igual a las grasas mínimas requeridas **Y** menor al tope de grasas.\n",
        "\n",
        "$  30 \\leq 1  x_1 + 5  x_2 + 15  x_3 + 8  x_4 + 0  x_5 \\leq 100$\n",
        "\n",
        "**Fibra**: La suma ponderada de las fibras aportadas por cada alimento multiplicadas por sus respectivas cantidades debe ser mayor o igual a la fibra mínima requerida **Y** menor al tope de fibra.\n",
        "\n",
        "$  10 \\leq 1  x_1 + 4  x_2 + 0  x_3 + 1  x_4 + 4  x_5 \\leq 50$\n",
        "\n",
        "**Calcio**: La suma ponderada del calcio aportado por cada alimento multiplicado por sus respectivas cantidades debe ser mayor o igual al calcio mínimo requerido **Y** menor al tope de calcio.\n",
        "\n",
        "$  200 \\leq 20  x_1 + 276  x_2 + 15  x_3 + 27  x_4 + 2  x_5 \\leq 1000$\n",
        "\n",
        "Restricción de no negatividad:\n",
        "\n",
        "$x_1,x_2,x_3,x_4,x_5 \\geq 0$"
      ]
    },
    {
      "cell_type": "markdown",
      "metadata": {
        "id": "B-NNCiz3R7r2"
      },
      "source": [
        "# Solución"
      ]
    },
    {
      "cell_type": "code",
      "execution_count": null,
      "metadata": {
        "colab": {
          "base_uri": "https://localhost:8080/"
        },
        "id": "d9-jD0u98J2o",
        "outputId": "1ddb524c-0898-49ca-8251-825808468530"
      },
      "outputs": [
        {
          "name": "stdout",
          "output_type": "stream",
          "text": [
            "El estado de la solución es: optimal\n",
            "\n",
            "Combinación más económica de alimentos:\n",
            "pan: 10 unidades\n",
            "leche: 0 unidades\n",
            "carne: 0 unidades\n",
            "huevos: 11 unidades\n",
            "manzanas: 6 unidades\n",
            "Costo total: 11.2\n"
          ]
        }
      ],
      "source": [
        "# Importar la libreria a utilizar\n",
        "import cvxpy as cp\n",
        "\n",
        "# Datos de alimentos y nutrientes (por unidad)\n",
        "alimentos = [\"pan\", \"leche\", \"carne\", \"huevos\", \"manzanas\"]\n",
        "costos = [0.5, 0.8, 2.0, 0.4, 0.3]  # Costos por unidad\n",
        "nutrientes = {\n",
        "    \"calorias\": [70, 121, 240, 90, 52],\n",
        "    \"proteinas\": [3, 8, 20, 13, 1],\n",
        "    \"grasas\": [1, 5, 15, 8, 0],\n",
        "    \"fibra\": [1, 4, 0, 1, 4],\n",
        "    \"calcio\": [20, 276, 15, 27, 2]\n",
        "}\n",
        "\n",
        "# Requerimientos nutricionales diarios mínimos\n",
        "requerimientos = {\n",
        "    \"calorias\": 2000,\n",
        "    \"proteinas\": 55,\n",
        "    \"grasas\": 30,\n",
        "    \"fibra\": 10,\n",
        "    \"calcio\": 200\n",
        "}\n",
        "topes_maximos = {\n",
        "    \"calorias\": 3000,\n",
        "    \"proteinas\": 200,\n",
        "    \"grasas\": 100,\n",
        "    \"fibra\": 50,\n",
        "    \"calcio\": 1000\n",
        "}\n",
        "# Variables de decisión (cantidades de cada alimento a comprar)\n",
        "cantidades = cp.Variable( (5, 1), integer = True )\n",
        "\n",
        "# Función objetivo (minimizar el costo total)\n",
        "costo_total = cp.Minimize(costos @ cantidades)\n",
        "\n",
        "# Definición de la restricción para cada nutriente\n",
        "# Esta lista contendrá todas las restricciones\n",
        "# Definidas anteriormente\n",
        "restricciones = [\n",
        "    cantidades >= 0 # Esta es la restricción de no negatividad\n",
        "    ]\n",
        "\n",
        "for nutriente in requerimientos:\n",
        "  # Esta suma se usa para poder agregar todas las variables con su coeficiente\n",
        "  # como si fuera una ecuación\n",
        "  suma_por_alimento = 0\n",
        "  for i in range(len(alimentos)):\n",
        "    suma_por_alimento += cantidades[i] * nutrientes[nutriente][i]\n",
        "  restricciones.append( suma_por_alimento >= requerimientos[nutriente] )\n",
        "  restricciones.append( suma_por_alimento <= topes_maximos[nutriente] )\n",
        "\n",
        "# Problema de optimización\n",
        "problema = cp.Problem(costo_total, restricciones)\n",
        "\n",
        "# Resolver el problema\n",
        "resultado = problema.solve()\n",
        "\n",
        "# Chequeamos el status del problema\n",
        "print(\"El estado de la solución es: \" + problema.status + \"\\n\")\n",
        "\n",
        "# Resultados\n",
        "if resultado is not None:\n",
        "    print(\"Combinación más económica de alimentos:\")\n",
        "    for i in range(len(alimentos)):\n",
        "        print(f\"{alimentos[i]}: {int(cantidades.value[i])} unidades\")\n",
        "\n",
        "    print(f\"Costo total: {resultado}\")\n",
        "else:\n",
        "    print(\"El problema no tiene solución\")\n"
      ]
    },
    {
      "cell_type": "markdown",
      "metadata": {
        "id": "MBVD7qL8s8T_"
      },
      "source": [
        "## Forma 2\n",
        "Otra manera de realizar las restricciones utilizando funciones de cvxpy"
      ]
    },
    {
      "cell_type": "code",
      "execution_count": null,
      "metadata": {
        "colab": {
          "base_uri": "https://localhost:8080/"
        },
        "id": "8hU3U9x_XC_m",
        "outputId": "fcaa8722-cf9d-4434-b567-2fba8e68b815"
      },
      "outputs": [
        {
          "name": "stdout",
          "output_type": "stream",
          "text": [
            "El estado de la solución es: optimal\n",
            "\n",
            "Combinación más económica de alimentos:\n",
            "pan: 10 unidades\n",
            "leche: 0 unidades\n",
            "carne: 0 unidades\n",
            "huevos: 11 unidades\n",
            "manzanas: 6 unidades\n",
            "Costo total: 11.2\n"
          ]
        }
      ],
      "source": [
        "# Variables de decisión (cantidades de cada alimento a comprar)\n",
        "cantidades = cp.Variable( (5, 1), integer = True )\n",
        "\n",
        "# Función objetivo (minimizar el costo total)\n",
        "costo_total = cp.Maximize( cp.sum(costos @ cantidades) )\n",
        "\n",
        "# Definición de la restricción para cada nutriente\n",
        "# Esta lista contendrá todas las restricciones\n",
        "# Definidas anteriormente\n",
        "restricciones = [\n",
        "    cantidades >= 0 # Esta es la restricción de no negatividad\n",
        "    ]\n",
        "\n",
        "for nutriente in requerimientos:\n",
        "  # Esta suma se usa para poder agregar todas las variables con su coeficiente\n",
        "  # como si fuera una ecuación\n",
        "  suma_por_alimento = cp.sum((cantidades.T @ nutrientes[nutriente]))\n",
        "  restricciones.append( suma_por_alimento >= requerimientos[nutriente] )\n",
        "  restricciones.append( suma_por_alimento <= topes_maximos[nutriente] )\n",
        "\n",
        "# Problema de optimización\n",
        "problema = cp.Problem(costo_total, restricciones)\n",
        "\n",
        "# Resolver el problema\n",
        "resultado = problema.solve()\n",
        "\n",
        "# Chequeamos el status del problema\n",
        "print(\"El estado de la solución es: \" + problema.status + \"\\n\")\n",
        "\n",
        "# Resultados\n",
        "if resultado is not None:\n",
        "    print(\"Combinación más económica de alimentos:\")\n",
        "    for i in range(len(alimentos)):\n",
        "        print(f\"{alimentos[i]}: {int(cantidades.value[i])} unidades\")\n",
        "\n",
        "    print(f\"Costo total: {resultado}\")\n",
        "else:\n",
        "    print(\"El problema no tiene solución\")"
      ]
    },
    {
      "cell_type": "markdown",
      "metadata": {
        "id": "kzqIpM3qvXr3"
      },
      "source": [
        "# Un problema un poco menos trivial."
      ]
    },
    {
      "cell_type": "markdown",
      "metadata": {
        "id": "yYOIQEUcvchP"
      },
      "source": [
        "Reformaron la ley 30 y ahora la Universidad Nacional no tiene problemas de financiación, por tanto quieren aumentar la variedad de artículos que ofrece el sistema de alimentación universitario y además ser más severa en cuanto a lo que consumen los estudiantes. Por cuestiones de oferta de las diferentes compañias, el número de porciones de cada alimento estará limitado según lo que diga la base de datos.\n",
        "\n",
        "Para eso se usará las siguientes bases de datos:\n",
        "\n",
        "Alimentos con sus nutrientes y costos:\n",
        "\n",
        "https://docs.google.com/spreadsheets/d/e/2PACX-1vQhKusnmw5stShCz7geIipr5RDIyWMFcGZR7JUQ6k28C7fhhhr0kzTpl72QhxNYDnrhl44Vasmf3oHU/pub?output=xlsx\n",
        "\n",
        "Requerimientos para una dieta (Estos valores son sólo con intención educativa):\n",
        "\n",
        "https://docs.google.com/spreadsheets/d/e/2PACX-1vTHdKymniPFJL9HE5n1MwRwtYGhqxtJwk14tRMMubkuNxvhgqYei049rjdufJjjrrOQVYIM7qzZrFB3/pub?output=xlsx"
      ]
    },
    {
      "cell_type": "markdown",
      "metadata": {
        "id": "xHBW93wcziDB"
      },
      "source": [
        "## Analisis del problema\n",
        "\n",
        "Se siguen manteniendo el mínimo y máximo de nutrientes que necesita el estudiante, pero esta vez tenemos unas restricciones en las porciones, lo cual no permite sólo comprar unidades de ciertos alimentos, como es imperante que compremos ciertas unidades"
      ]
    },
    {
      "cell_type": "code",
      "execution_count": null,
      "metadata": {
        "colab": {
          "base_uri": "https://localhost:8080/"
        },
        "id": "xEPZ24KNMjWC",
        "outputId": "6611bdab-2ce2-44f9-8628-ecc63b495d0d"
      },
      "outputs": [
        {
          "name": "stdout",
          "output_type": "stream",
          "text": [
            "El estado de la solución es: infeasible\n",
            "\n",
            "inf\n"
          ]
        }
      ],
      "source": [
        "# Importamos las librerías requeridas\n",
        "import numpy as np\n",
        "import pandas as pd\n",
        "import cvxpy as cvx\n",
        "\n",
        "# Variables de decisión\n",
        "cantidades = cvx.Variable( (77,1), nonneg = True )\n",
        "\n",
        "# Para la función objetivo, necesitamos los coeficientes de costos\n",
        "# de cada una de las Variables de decisión\n",
        "\n",
        "# Leo la ruta con todos los datos\n",
        "ruta = \"https://docs.google.com/spreadsheets/d/e/2PACX-1vQhKusnmw5stShCz7geIipr\\\n",
        "5RDIyWMFcGZR7JUQ6k28C7fhhhr0kzTpl72QhxNYDnrhl44Vasmf3oHU/pub?output=xlsx\"\n",
        "\n",
        "costo = pd.read_excel(ruta)\n",
        "\n",
        "# Array con todos los valores de los coeficientes de costos\n",
        "array_costos = costo['Costo'].values\n",
        "\n",
        "# Necesito los lados derechos de las desigualdades, eso los saco de la segunda\n",
        "# Hoja de excel\n",
        "ruta_1 = \"https://docs.google.com/spreadsheets/d/e/2PACX-1vTHdKymniPFJL9HE5n1Mw\\\n",
        "RwtYGhqxtJwk14tRMMubkuNxvhgqYei049rjdufJjjrrOQVYIM7qzZrFB3/pub?output=xlsx\"\n",
        "\n",
        "# dataframe con los requerimientos\n",
        "requerimientos = pd.read_excel(ruta_1)\n",
        "# Requerimientos minimos\n",
        "requerimientos_min = np.array(requerimientos.iloc[:,2])\n",
        "# Tope maximo\n",
        "requerimientos_max  = np.array(requerimientos.iloc[:,3])\n",
        "\n",
        "# Función objetivo\n",
        "costo_dieta = cvx.Minimize( cvx.sum( array_costos @ cantidades ) )\n",
        "\n",
        "# Restricciones\n",
        "restricciones = [ ]\n",
        "\n",
        "# Primero vamos a hacer una lista con todos los nutrientes para poder iterar\n",
        "# Sobre ella y poder aplicar las restricciones\n",
        "lista_nutrientes = costo.columns[3:len(costo.columns)-2]\n",
        "\n",
        "# Array con los coeficientes técnicos sin los encabezados, sin la columna de\n",
        "# costos y sin la columna de unidades ni los minimos o máximos\n",
        "array_coef_tec = np.array(costo.iloc[:, 3:len(costo.columns)-2]).T\n",
        "\n",
        "# Cantidad de articulos\n",
        "cantidad_articulos = len(costo.iloc[:, 1:]) # 77 Articulos\n",
        "\n",
        "\n",
        "for nutriente in range(len(lista_nutrientes)):\n",
        "  suma_por_alimento = 0\n",
        "  suma_por_alimento = cvx.sum(( array_coef_tec[nutriente] @ cantidades ))\n",
        "  restricciones.append( suma_por_alimento >= requerimientos_min[nutriente] )\n",
        "  restricciones.append( -suma_por_alimento >= -requerimientos_max[nutriente] )\n",
        "\n",
        "\n",
        "array_coef_lado_der = np.array(costo.iloc[:, 12:len(costo.columns)])\n",
        "for i in range(cantidad_articulos):\n",
        "  restricciones.append(cantidades[i] >= array_coef_lado_der[i][0])\n",
        "  restricciones.append(-cantidades[i] >= -array_coef_lado_der[i][1])\n",
        "\n",
        "# Problema de optimización\n",
        "problema = cvx.Problem(costo_dieta, restricciones)\n",
        "\n",
        "# Resolver el problema\n",
        "resultado = problema.solve()\n",
        "\n",
        "# Chequeamos el status del problema\n",
        "print(\"El estado de la solución es: \" + problema.status + \"\\n\")\n",
        "print(problema.value)\n"
      ]
    },
    {
      "cell_type": "code",
      "execution_count": null,
      "metadata": {
        "colab": {
          "base_uri": "https://localhost:8080/"
        },
        "id": "6Y2HOeN2Uqwe",
        "outputId": "7ea7bb5b-91dc-407b-d64d-d9fdc7738a45"
      },
      "outputs": [
        {
          "name": "stdout",
          "output_type": "stream",
          "text": [
            "[44.7 11.6 11.8 11.4 36.  28.6 21.2 25.3 15.  12.2 12.4  8.  12.5  6.1\n",
            "  8.4 10.8 20.6  2.9  7.4  3.5 15.7  8.6 20.1 41.7  2.9  2.2  3.4  3.6\n",
            "  8.5  2.2  3.1  3.3  3.5  4.4 10.4  6.7 18.8  1.8  1.7  5.8  5.8  4.9\n",
            "  1.   2.2  2.4  2.6  2.7  0.9  0.4  5.8 14.3  1.1  9.6  3.7  3.   2.4\n",
            "  0.4  1.   7.5  5.2  2.3  1.3  1.6  8.5 12.8 13.5 20.  17.4 26.9  0.\n",
            "  0.   8.7  8.  34.9 14.7  9.   6.4]\n"
          ]
        }
      ],
      "source": [
        "array_77x1 = np.arange(1, 78).reshape(77, 1)\n",
        "array_1x77 = np.ones((1, 77))\n",
        "\n",
        "print( array_coef_tec[0] )"
      ]
    }
  ],
  "metadata": {
    "colab": {
      "provenance": []
    },
    "kernelspec": {
      "display_name": "Python 3",
      "name": "python3"
    },
    "language_info": {
      "name": "python"
    }
  },
  "nbformat": 4,
  "nbformat_minor": 0
}

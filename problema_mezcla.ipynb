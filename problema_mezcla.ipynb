{
  "nbformat": 4,
  "nbformat_minor": 0,
  "metadata": {
    "colab": {
      "provenance": []
    },
    "kernelspec": {
      "name": "python3",
      "display_name": "Python 3"
    },
    "language_info": {
      "name": "python"
    }
  },
  "cells": [
    {
      "cell_type": "markdown",
      "source": [
        "# Problema básico de la mezcla\n"
      ],
      "metadata": {
        "id": "eN5x19Q_yYPe"
      }
    },
    {
      "cell_type": "markdown",
      "source": [
        "La Facultad de Ciencias Agrarias de la Universidad Nacional necesita producir un suplemento alimenticio balanceado para el ganado de su estación experimental. El suplemento debe contener nutrientes esenciales como calcio, proteínas y fibra, para garantizar el adecuado crecimiento y desarrollo del ganado.\n",
        "\n",
        "Se tienen tres ingredientes disponibles para la mezcla del suplemento: piedra caliza, maíz y harina de soya. Cada ingrediente tiene diferentes proporciones de calcio, proteínas y fibra, así como costos por kilogramo distintos. El objetivo es determinar las cantidades óptimas de cada ingrediente que deben mezclarse para lograr el suplemento más económico, cumpliendo con los requisitos nutricionales del ganado."
      ],
      "metadata": {
        "id": "scczkRPZyivH"
      }
    },
    {
      "cell_type": "markdown",
      "source": [
        "## Datos\n",
        "\n",
        "| Ingrediente       | Calcio (kg/kg) | Proteínas (kg/kg) | Fibra (kg/kg) | Costo (cents/kg) |\n",
        "|-------------------|---------------|-------------------|--------------|------------------|\n",
        "| Piedra Caliza     | 0.38          | 0.0               | 0.0          | 10.0             |\n",
        "| Maíz              | 0.001         | 0.09              | 0.02         | 30.5             |\n",
        "| Harina de Soya    | 0.002         | 0.50              | 0.08         | 90.0             |\n",
        "\n",
        "La mezcla, por requerimientos, debe seguir las siguiente composición:\n",
        "\n",
        "- Calcio mínimo requerido: por lo menos 0.8% pero no más de 1.2%\n",
        "- Proteínas mínimas requeridas: por lo menos 22%\n",
        "- Fibra mínima requerida: A lo máximo 5%\n",
        "\n",
        "El problema consiste en encontrar la composición que satisfaga las restricciones mientras minimiza el costo.\n"
      ],
      "metadata": {
        "id": "7EEADX9ty9rt"
      }
    },
    {
      "cell_type": "markdown",
      "source": [
        "## Modelo Matemático\n"
      ],
      "metadata": {
        "id": "vC7-VB6Ey6vt"
      }
    },
    {
      "cell_type": "markdown",
      "source": [
        "### Variables de decisión\n",
        "$x_1, x_2, x_3$: Cantidad de cada componente a mezclar (enteros positivos)\n",
        "\n",
        "$x_1 = $ Piedra caliza\n",
        "\n",
        "$x_2 = $ Maíz\n",
        "\n",
        "$x_3 = $ Harina de soya\n"
      ],
      "metadata": {
        "id": "C_Q9Irzw1VU2"
      }
    },
    {
      "cell_type": "markdown",
      "source": [
        "### Restricciones\n",
        "\n",
        "**Restricciones de calcio**:\n",
        "\n",
        "$ 0.38  x_1 + 0.001  x_2 + 0.002  x_3 \\geq 0.008 $\n",
        "\n",
        "$ 0.38  x_1 + 0.001  x_2 + 0.002  x_3 \\leq 0.012 $\n",
        "\n",
        "**Restricción de Proteínas**:\n",
        "\n",
        "$ 0.0  x_1 + 0.09  x_2 + 0.50  x_3 \\geq 0.22$\n",
        "\n",
        "**Restricción de Fibra**:\n",
        "\n",
        "$0.0  x_1 + 0.02  x_2 + 0.08  x_3 \\leq 0.05$\n",
        "\n",
        "**Conservacion**\n",
        "\n",
        "En este caso lo modelaremos para solo realizar 1kg de la mezcla\n",
        "\n",
        "$x_1 + x_2 + x_3 = 1$\n",
        "\n",
        "**No Negatividad**\n",
        "\n",
        "$x_1,x_2,x_3 \\geq 0$"
      ],
      "metadata": {
        "id": "xuTObsn-13K1"
      }
    },
    {
      "cell_type": "markdown",
      "source": [
        "### Función objetivo\n",
        "\n",
        "$Min$\n",
        "$ 10x_1 + 30.5x_2 + 90x_3$"
      ],
      "metadata": {
        "id": "xPB2VcN63qte"
      }
    },
    {
      "cell_type": "markdown",
      "source": [
        "## Solución"
      ],
      "metadata": {
        "id": "OoN8qeGob4ed"
      }
    },
    {
      "cell_type": "code",
      "source": [
        "import cvxpy as cvx\n",
        "\n",
        "x_1 = cvx.Variable()\n",
        "x_2 = cvx.Variable()\n",
        "x_3 = cvx.Variable()\n",
        "\n",
        "costo_total = cvx.Minimize(10 * x_1 + 30.5 * x_2 + 90 * x_3)\n",
        "\n",
        "restricciones = [\n",
        "    0.38 * x_1 + 0.001 * x_2 + 0.002 * x_3 <= 0.012,\n",
        "    0.38 * x_1 + 0.001 * x_2 + 0.002 * x_3 >= 0.008,\n",
        "    0.0  * x_1 + 0.09  * x_2 + 0.50  * x_3 >= 0.22,\n",
        "    0.0  * x_1 + 0.02  * x_2 + 0.08  * x_3 <= 0.05,\n",
        "    x_1 + x_2 + x_3 == 1,\n",
        "    x_1 >=0,\n",
        "    x_2 >=0,\n",
        "    x_3 >=0\n",
        "]\n",
        "\n",
        "# Problema de optimización\n",
        "problema = cvx.Problem(costo_total, restricciones)\n",
        "\n",
        "# Resolver el problema\n",
        "resultado = problema.solve()\n",
        "\n",
        "# Chequeamos el status del problema\n",
        "print(\"El estado de la solución es: \" + problema.status + \"\\n\")\n",
        "\n",
        "# Chequeamos el status del problema\n",
        "print(\"Valor de la función objetivo \", problema.value)\n",
        "print(\"Piedra caliza:\", x_1.value)\n",
        "print(\"Maiz: \", x_2.value)\n",
        "print(\"Harina de soya: \", x_3.value)"
      ],
      "metadata": {
        "colab": {
          "base_uri": "https://localhost:8080/"
        },
        "id": "n4DeGG72E3xo",
        "outputId": "195a8be3-5bc5-427f-f49c-358b7d5bf837"
      },
      "execution_count": null,
      "outputs": [
        {
          "output_type": "stream",
          "name": "stdout",
          "text": [
            "El estado de la solución es: optimal\n",
            "\n",
            "Valor de la función objetivo  49.15629019605402\n",
            "Piedra caliza: 0.02817082513628019\n",
            "Maiz:  0.6485721645883664\n",
            "Harina de soya:  0.32325701027495607\n"
          ]
        }
      ]
    },
    {
      "cell_type": "markdown",
      "source": [
        "## Otra forma de resolverlo"
      ],
      "metadata": {
        "id": "XVRRw8fnb2gf"
      }
    },
    {
      "cell_type": "code",
      "execution_count": null,
      "metadata": {
        "colab": {
          "base_uri": "https://localhost:8080/"
        },
        "id": "M1DAO_luxbJB",
        "outputId": "6ddb370b-3b9c-496f-ac3c-119658db399c"
      },
      "outputs": [
        {
          "output_type": "stream",
          "name": "stdout",
          "text": [
            "El estado de la solución es:  optimal \n",
            "\n",
            "Valor de la función objetivo  49.15629019520371 \n",
            "\n",
            "Variable Piedra Caliza:  [0.02817083]\n",
            "Variable Maiz:  [0.64857216]\n",
            "Variable Harina de soya:  [0.32325701]\n"
          ]
        }
      ],
      "source": [
        "# importar librerias a utilizar\n",
        "import cvxpy as cvx\n",
        "import numpy as np\n",
        "\n",
        "\n",
        "# Datos\n",
        "tabla_ingredientes = [\n",
        "    {\n",
        "        \"Ingrediente\": \"Piedra Caliza\",\n",
        "        \"Calcio (kg/kg)\": 0.38,\n",
        "        \"Proteínas (kg/kg)\": 0.0,\n",
        "        \"Fibra (kg/kg)\": 0.0,\n",
        "        \"Costo (cents/kg)\": 10.0,\n",
        "    },\n",
        "    {\n",
        "        \"Ingrediente\": \"Maíz\",\n",
        "        \"Calcio (kg/kg)\": 0.001,\n",
        "        \"Proteínas (kg/kg)\": 0.09,\n",
        "        \"Fibra (kg/kg)\": 0.02,\n",
        "        \"Costo (cents/kg)\": 30.5,\n",
        "    },\n",
        "    {\n",
        "        \"Ingrediente\": \"Harina de Soya\",\n",
        "        \"Calcio (kg/kg)\": 0.002,\n",
        "        \"Proteínas (kg/kg)\": 0.50,\n",
        "        \"Fibra (kg/kg)\": 0.08,\n",
        "        \"Costo (cents/kg)\": 90.0,\n",
        "    },\n",
        "]\n",
        "\n",
        "# Extraer solo los valores numéricos en una lista de la lista de ingredientes\n",
        "valores_numericos = [[valor for clave, valor in ingrediente.items()\\\n",
        "                    if isinstance(valor, (int, float))]\\\n",
        "                    for ingrediente in tabla_ingredientes]\n",
        "\n",
        "# Convertir la lista en un array de NumPy (Esta contiene los costos)\n",
        "# Pero ya se los vamos a extraer\n",
        "array_coef_tec = np.array(valores_numericos)\n",
        "costos = array_coef_tec[:, 3]\n",
        "\n",
        "# Ahora dejo solo el array de coeficientes técnicos\n",
        "array_coef_tec = array_coef_tec[:, :-1]\n",
        "\n",
        "# Requerimientos nutricionales mínimos\n",
        "calcio_minimo = 0.008  # 0.8%\n",
        "calcio_maximo = 0.012  # 1.2%\n",
        "prote_maximo  = 0.22\n",
        "fibra_minimo  = 0.005\n",
        "\n",
        "# Variables de decisión\n",
        "cantidades_ingredientes = cvx.Variable(( 3,1 ), nonneg = True)\n",
        "\n",
        "# Función objetivo (minimizar el costo total)\n",
        "costo_total = cvx.Minimize(costos @ cantidades_ingredientes)\n",
        "\n",
        "# Se crea la lista donde se almacenarán las restricciones\n",
        "restricciones = []\n",
        "\n",
        "# Restriccion de conservacion\n",
        "restricciones.append( cvx.sum(cantidades_ingredientes) == 1)\n",
        "\n",
        "# Restricciones de calcio\n",
        "suma_var_calcio = cvx.sum( array_coef_tec[:, 0] @ cantidades_ingredientes )\n",
        "suma_var_prote  = cvx.sum( array_coef_tec[:, 1] @ cantidades_ingredientes )\n",
        "suma_var_fibra  = cvx.sum( array_coef_tec[:, 2] @ cantidades_ingredientes )\n",
        "\n",
        "# Añado las restricciones a las listas\n",
        "restricciones.append( suma_var_calcio >= calcio_minimo)\n",
        "restricciones.append( suma_var_calcio <= calcio_maximo)\n",
        "restricciones.append( suma_var_prote >= prote_maximo )\n",
        "restricciones.append( suma_var_fibra >= fibra_minimo )\n",
        "\n",
        "# Problema de optimización\n",
        "problema = cvx.Problem(costo_total, restricciones)\n",
        "\n",
        "# Resolver el problema\n",
        "resultado = problema.solve()\n",
        "\n",
        "# Chequeamos el status del problema\n",
        "print(\"El estado de la solución es: \", problema.status, \"\\n\")\n",
        "\n",
        "# Imprimimos el valor óptimo de la función objetivo\n",
        "print(\"Valor de la función objetivo \", problema.value,\"\\n\" )\n",
        "\n",
        "# Imprimimos los valores óptimos de las variables de decisión\n",
        "print(\"Variable Piedra Caliza: \", cantidades_ingredientes[0].value)\n",
        "print(\"Variable Maiz: \", cantidades_ingredientes[1].value)\n",
        "print(\"Variable Harina de soya: \", cantidades_ingredientes[2].value)"
      ]
    }
  ]
}